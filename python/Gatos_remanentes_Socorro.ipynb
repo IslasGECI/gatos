{
 "cells": [
  {
   "cell_type": "markdown",
   "metadata": {},
   "source": [
    "<table style=\"float:left; border:none\">\n",
    "   <tr style=\"border:none; background-color: #ffffff\">\n",
    "       <td style=\"border:none\">\n",
    "           <a href=\"http://www.islas.org.mx/\">     \n",
    "           <img \n",
    "               src=\"assets/geci_20_anos.png\" \n",
    "               style=\"width:200px\"\n",
    "           >\n",
    "           </a>    \n",
    "       </td>\n",
    "       <td style=\"border:none\">\n",
    "           <h1>Erradicación de gatos en Socorro</h1>\n",
    "       </td>\n",
    "   </tr>\n",
    "</table>\n",
    "\n",
    "<div style=\"float:right;\"><h2> Gatos remanentes</h2></div>"
   ]
  },
  {
   "cell_type": "code",
   "execution_count": null,
   "metadata": {},
   "outputs": [],
   "source": [
    "from pymc import MCMC\n",
    "import bokeh.io as bi\n",
    "import bokeh.models as bm\n",
    "import bokeh.plotting as bp\n",
    "import gatos as dmc\n",
    "import matplotlib.pyplot as plt\n",
    "import numpy as np\n",
    "import pandas as pd\n",
    "import time\n",
    "import gatos.PopulationEstimator as pe"
   ]
  },
  {
   "cell_type": "code",
   "execution_count": null,
   "metadata": {},
   "outputs": [],
   "source": [
    "directorio_dp = ('../inst/extdata/erradicaciones-mamiferos/')\n",
    "recurso = 'captura_gatos.csv'\n",
    "DatosSocorro = dmc.DataAndMetadataCats(directorio_dp,recurso)"
   ]
  },
  {
   "cell_type": "code",
   "execution_count": null,
   "metadata": {},
   "outputs": [],
   "source": [
    "directorio_resultados = '../tmp/'\n",
    "archivo = 'distribucion_posterior_repeticion_2_iteraciones_1000000.csv'\n",
    "datos = pd.read_csv(directorio_resultados + archivo)"
   ]
  },
  {
   "cell_type": "code",
   "execution_count": null,
   "metadata": {},
   "outputs": [],
   "source": [
    "# n_datos = 34\n",
    "n_datos = len(DatosSocorro.getData())\n",
    "nombre_esfuerzo = DatosSocorro.glosario[\"esfuerzo\"]\n",
    "nombre_capturas = DatosSocorro.glosario[\"capturas\"]"
   ]
  },
  {
   "cell_type": "markdown",
   "metadata": {
    "collapsed": true
   },
   "source": [
    "Creo que aquí se tiene que hacer un cambio de unidades en el esfuerzo"
   ]
  },
  {
   "cell_type": "code",
   "execution_count": null,
   "metadata": {},
   "outputs": [],
   "source": [
    "esfuerzo = np.array(DatosSocorro.getValue(nombre_esfuerzo)/(30 * 7 * 5))[0:n_datos]  #Días hombre\n",
    "capturas = np.array(DatosSocorro.getValue(nombre_capturas))[0:n_datos]"
   ]
  },
  {
   "cell_type": "markdown",
   "metadata": {},
   "source": [
    "## Tamaño inicial de la población\n",
    "Aquí se grafica la distribucón posterior para el tamaño inicial de la población $N_o$."
   ]
  },
  {
   "cell_type": "code",
   "execution_count": null,
   "metadata": {},
   "outputs": [],
   "source": [
    "No = datos.No"
   ]
  },
  {
   "cell_type": "code",
   "execution_count": null,
   "metadata": {},
   "outputs": [],
   "source": [
    "bins_necesarios = max(No) - min(No)\n",
    "histograma_completo, lados, otracosa = plt.hist(No, bins=bins_necesarios, normed=1)\n",
    "plt.xlim(min(No),min(No)+200)\n",
    "plt.show()"
   ]
  },
  {
   "cell_type": "markdown",
   "metadata": {},
   "source": [
    "## Gatos remanentes\n",
    "Histograma de los gatos remanentes. Es el histograma anterior pero el eje $x$ recorrido el número total de gatos capturados. "
   ]
  },
  {
   "cell_type": "code",
   "execution_count": null,
   "metadata": {},
   "outputs": [],
   "source": [
    "bins_trasladados = lados - sum(capturas)\n",
    "bins_centrados = (bins_trasladados[:-1] + bins_trasladados[1:])/2"
   ]
  },
  {
   "cell_type": "code",
   "execution_count": null,
   "metadata": {},
   "outputs": [],
   "source": [
    "remanentes = No - sum(capturas)\n",
    "ic = np.percentile(np.asarray(remanentes), [2.5, 97.5])\n",
    "ic"
   ]
  },
  {
   "cell_type": "code",
   "execution_count": null,
   "metadata": {},
   "outputs": [],
   "source": [
    "intervaloDensidadPosteriorSuperior = np.asarray(pe.calc_min_interval(np.sort(remanentes.values),alpha=0.95))\n",
    "intervaloDensidadPosteriorSuperior"
   ]
  },
  {
   "cell_type": "code",
   "execution_count": null,
   "metadata": {},
   "outputs": [],
   "source": [
    "vmp = intervaloDensidadPosteriorSuperior.mean().round()\n",
    "vmp"
   ]
  },
  {
   "cell_type": "markdown",
   "metadata": {},
   "source": [
    "## Función de densidad de probabilidad"
   ]
  },
  {
   "cell_type": "code",
   "execution_count": null,
   "metadata": {},
   "outputs": [],
   "source": [
    "esHPD = (bins_centrados<=intervaloDensidadPosteriorSuperior.max()) & (intervaloDensidadPosteriorSuperior.min()<=bins_centrados)\n",
    "indVMP = np.argmin(abs(bins_centrados - vmp))\n",
    "esInferior = (bins_centrados<ic.min())\n",
    "esSuperior = (bins_centrados>ic.max())"
   ]
  },
  {
   "cell_type": "code",
   "execution_count": null,
   "metadata": {},
   "outputs": [],
   "source": [
    "bi.curdoc().clear()\n",
    "bp.reset_output()\n",
    "bp.output_file('../resultados/gatos_remanentes.html', title=\"Gatos remanentes\")"
   ]
  },
  {
   "cell_type": "code",
   "execution_count": null,
   "metadata": {},
   "outputs": [],
   "source": [
    "integral = histograma_completo.cumsum()\n",
    "fuente = bp.ColumnDataSource({'x': bins_centrados, 'p': histograma_completo, 'c': integral})\n",
    "encima_pdf = bm.HoverTool(tooltips=[\n",
    "    (\"Cantidad de gatos remanentes\", \"@x\"),\n",
    "    (\"Probabilidad\", \"@p\")],\n",
    "    mode='vline')\n",
    "encima_cdf = bm.HoverTool(tooltips=[\n",
    "    (\"Cantidad de gatos remanentes\", \"@x\"),\n",
    "    (\"Probabilidad\", \"@c\")],\n",
    "    mode='vline')\n",
    "herramientas = \"pan,box_zoom,wheel_zoom,resize,reset,save\""
   ]
  },
  {
   "cell_type": "code",
   "execution_count": null,
   "metadata": {},
   "outputs": [],
   "source": [
    "pdf = bp.figure(title=\"PDF de gatos remanentes\", x_axis_label='Cantidad de gatos remanentes', y_axis_label='Probabilidad', \\\n",
    "            y_range=(0,0.035), tools=[encima_pdf, herramientas])\n",
    "\n",
    "pdf.vbar(x = bins_centrados, top=histograma_completo, bottom=0, width = 1)\n",
    "pdf.line([vmp, vmp], [0, histograma_completo.max()], line_width=5, line_color=\"DarkOrange\")\n",
    "pdf.vbar(x = bins_centrados[esInferior], top=histograma_completo[esInferior], bottom=0, width = 1, fill_color=\"SeaGreen\", line_color=\"SeaGreen\")\n",
    "pdf.vbar(x = bins_centrados[esSuperior], top=histograma_completo[esSuperior], bottom=0, width = 1, fill_color=\"SeaGreen\", line_color=\"SeaGreen\")\n",
    "pdf.line('x','p', source=fuente, line_alpha=0)\n",
    "pdf.grid.visible = False\n",
    "indUltimoInferior = np.argmax(~esInferior);\n",
    "indPrimerSuperior = np.argmax(esSuperior);\n",
    "pdf.text(x = [ic[0]], y=[histograma_completo[indUltimoInferior]], text=[ic[0]], text_align='right')\n",
    "pdf.text(x = [ic[1]], y=[histograma_completo[indPrimerSuperior]], text=[ic[1]], text_align='left')\n",
    "pdf.text(x = [vmp], y=[histograma_completo[indVMP]+0.001], text=[vmp], text_align='center', text_baseline = 'bottom')"
   ]
  },
  {
   "cell_type": "markdown",
   "metadata": {},
   "source": [
    "## Función de probabilidad acumulativa"
   ]
  },
  {
   "cell_type": "code",
   "execution_count": null,
   "metadata": {},
   "outputs": [],
   "source": [
    "cdf = bp.figure(title=\"CDF de gatos remanentes\", x_axis_label=\"Número de gatos remanentes\",\\\n",
    "            y_axis_label='Probabilidad',y_range=(0, 1), x_range=(0,150), tools=[encima_cdf, herramientas])\n",
    "cdf.grid.visible = False\n",
    "cdf.line('x','c', line_width=3, source=fuente)\n",
    "cdf.line([bins_centrados[indPrimerSuperior], bins_centrados[indPrimerSuperior]],[0, integral[indPrimerSuperior]], line_width=3, line_color=\"SeaGreen\")\n",
    "cdf.line([bins_centrados[indUltimoInferior], bins_centrados[indUltimoInferior]],[0, integral[indUltimoInferior]], line_width=3, line_color=\"SeaGreen\")\n",
    "fuenteVMP = bp.ColumnDataSource({'x': [vmp], 'p': [histograma_completo.max()], 'c': [integral[indVMP]]})\n",
    "cdf.circle('x', 'c', size=10, color=\"DarkOrange\", source=fuenteVMP)\n",
    "cdf.line([vmp, vmp], [0, integral[indVMP]], line_width=3, color=\"DarkOrange\")\n"
   ]
  },
  {
   "cell_type": "code",
   "execution_count": null,
   "metadata": {
    "scrolled": true
   },
   "outputs": [],
   "source": [
    "p = bp.gridplot([[pdf, cdf]])\n",
    "bp.show(p)"
   ]
  }
 ],
 "metadata": {
  "kernelspec": {
   "display_name": "Python 3",
   "language": "python",
   "name": "python3"
  },
  "language_info": {
   "codemirror_mode": {
    "name": "ipython",
    "version": 3
   },
   "file_extension": ".py",
   "mimetype": "text/x-python",
   "name": "python",
   "nbconvert_exporter": "python",
   "pygments_lexer": "ipython3",
   "version": "3.6.5"
  }
 },
 "nbformat": 4,
 "nbformat_minor": 2
}
