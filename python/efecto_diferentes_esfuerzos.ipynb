{
 "cells": [
  {
   "cell_type": "markdown",
   "metadata": {},
   "source": [
    "<table style=\"float:left; border:none\">\n",
    "   <tr style=\"border:none; background-color: #ffffff\">\n",
    "       <td style=\"border:none\">\n",
    "           <a href=\"http://www.islas.org.mx//\">     \n",
    "           <img \n",
    "               src=\"assets/geci_20_anos.png\" \n",
    "               style=\"width:200px\"\n",
    "           >\n",
    "           </a>    \n",
    "       </td>\n",
    "       <td style=\"border:none\">\n",
    "           <h1>Erradicación de gatos en Socorro</h1>\n",
    "       </td>\n",
    "   </tr>\n",
    "</table>\n",
    "\n",
    "<div style=\"float:right;\"><h2> Efecto del esfuerzo</h2></div>"
   ]
  },
  {
   "cell_type": "markdown",
   "metadata": {},
   "source": [
    "Evaluaremos el efecto que tiene usar diferentes tamaños de esfuerzo (_unidad de esfuerzo_) en las simulaciones. Lo que se\n",
    "quiere hacer es una gráfica de las capturas en función del esfuerzo. Dos de las menras en las que podemos hacer la gráfica son:\n",
    "1. Calcular capturas para distintos esfuerzos\n",
    "1. Hacer \"series de tiempo\" de las salidas"
   ]
  },
  {
   "cell_type": "markdown",
   "metadata": {},
   "source": [
    "## Paqueterías "
   ]
  },
  {
   "cell_type": "code",
   "execution_count": 1,
   "metadata": {
    "collapsed": false
   },
   "outputs": [],
   "source": [
    "import pandas as pd\n",
    "import numpy as np\n",
    "import matplotlib.pyplot as plt\n",
    "import gatos as dmc\n",
    "import bokeh.plotting as bp\n",
    "from math import ceil"
   ]
  },
  {
   "cell_type": "markdown",
   "metadata": {},
   "source": [
    "## Datos\n",
    "Los datos que usaremos son las distribuciones posteriores de los parámetros del modelo de Ramsey obtenidas del ajuste a partir\n",
    "de los datos de cacería de gatos en Isla Socorro.\n",
    "\n",
    "Los parámetros son: \n",
    "1. la población inicial $No$\n",
    "1. $\\alpha$ y $\\beta$ que definen la probabilidad de captura en función del esfuerzo. "
   ]
  },
  {
   "cell_type": "code",
   "execution_count": 2,
   "metadata": {
    "collapsed": true
   },
   "outputs": [],
   "source": [
    "directorio_resultados = '../tmp/'\n",
    "archivo = 'distribucion_posterior_repeticion_2_iteraciones_1000000.csv'\n",
    "datos = pd.read_csv(directorio_resultados + archivo)"
   ]
  },
  {
   "cell_type": "markdown",
   "metadata": {},
   "source": [
    "## Capturas a un esfuerzo dado\n"
   ]
  },
  {
   "cell_type": "markdown",
   "metadata": {},
   "source": [
    "### El esfuerzo en una sola salida (un esfuerzo grande)"
   ]
  },
  {
   "cell_type": "markdown",
   "metadata": {},
   "source": [
    "Tomaremos una muestra de 10000 de las distribuciones posteriores. Con cada una de esas muestras simulamos eventos de capturas. \n",
    "Usaremos los resultados de las capturas (`capturas_esfuerzo_grande`) para hacer un histograma. "
   ]
  },
  {
   "cell_type": "code",
   "execution_count": 3,
   "metadata": {
    "collapsed": true
   },
   "outputs": [],
   "source": [
    "muestra = 100_000\n",
    "esfuerzo = 20"
   ]
  },
  {
   "cell_type": "code",
   "execution_count": 4,
   "metadata": {
    "collapsed": false
   },
   "outputs": [],
   "source": [
    "No = datos.No.sample(n=muestra, replace=True).values.astype(np.int32) - 606\n",
    "beta = datos.b.sample(n=muestra, replace=True).values\n",
    "alpha = datos.a.sample(n=muestra, replace=True).values\n",
    "exp = np.exp(alpha + beta * esfuerzo)\n",
    "p = exp/(1+exp)\n",
    "capturas_esfuerzo_grande = np.random.binomial(No,p)"
   ]
  },
  {
   "cell_type": "markdown",
   "metadata": {},
   "source": [
    "### El esfuerzo en varias salidas (muchos esfuerzos chicos)\n",
    "Simularemos eventos de cacería, en cada evento haremos un esfuerzo de 1. Por lo tanto, deberemos tener `nIntentos` para alcanzar\n",
    "el esfuerzo total. Repetiremos la simulación para cada uno de las ternas ($\\alpha$, $\\beta$ y $N_o$) arriba. Usaremos los \n",
    "resultados de las capturas (`capturas_esfuerzo_chico`) para hacer un histograma."
   ]
  },
  {
   "cell_type": "code",
   "execution_count": 5,
   "metadata": {
    "collapsed": true
   },
   "outputs": [],
   "source": [
    "unidad_esfuerzo = 0.1"
   ]
  },
  {
   "cell_type": "code",
   "execution_count": 6,
   "metadata": {
    "collapsed": false
   },
   "outputs": [],
   "source": [
    "nIntentos = int(esfuerzo/unidad_esfuerzo) \n",
    "esfuerzo_chico = np.random.uniform(unidad_esfuerzo,unidad_esfuerzo,nIntentos)\n",
    "capturas_esfuerzo_chico = []\n",
    "for iRepeticion in range(muestra):\n",
    "    vector_probabilidad = dmc.calculateProbabilityFromAlphaBetaEffort(alpha[iRepeticion], beta[iRepeticion], esfuerzo_chico)        \n",
    "    probabilidadEmpirica = dmc.CalculaProbabilidadEmpirica(vector_probabilidad)\n",
    "    tamanoPoblacion = No[iRepeticion] \n",
    "    gatosRemovidos = dmc.getRemovedCats(tamanoPoblacion,probabilidadEmpirica,nIntentos)\n",
    "    capturas_esfuerzo_chico.append(sum(gatosRemovidos))"
   ]
  },
  {
   "cell_type": "markdown",
   "metadata": {},
   "source": [
    "## Graficado\n",
    "Estimamos el número de particiones que debería de tener cada histograma, para que cada separación corresponda a un posible valor \n",
    "de $N_o$."
   ]
  },
  {
   "cell_type": "code",
   "execution_count": 7,
   "metadata": {
    "collapsed": false
   },
   "outputs": [],
   "source": [
    "bins_grande = max(capturas_esfuerzo_grande)-min(capturas_esfuerzo_grande)"
   ]
  },
  {
   "cell_type": "code",
   "execution_count": 8,
   "metadata": {
    "collapsed": false
   },
   "outputs": [],
   "source": [
    "bins_chico = max(capturas_esfuerzo_chico)-min(capturas_esfuerzo_chico)"
   ]
  },
  {
   "cell_type": "markdown",
   "metadata": {},
   "source": [
    "Calculamos los parámetros de los histogramas:"
   ]
  },
  {
   "cell_type": "code",
   "execution_count": 9,
   "metadata": {
    "collapsed": false
   },
   "outputs": [],
   "source": [
    "histograma_grande, lados_grande, basura = plt.hist(capturas_esfuerzo_grande, bins= bins_grande, normed=1)\n",
    "histograma_chico, lados_chico, basura   = plt.hist(capturas_esfuerzo_chico,  bins= bins_chico, normed=1)"
   ]
  },
  {
   "cell_type": "markdown",
   "metadata": {},
   "source": [
    "Definimos las opciones del la figura:"
   ]
  },
  {
   "cell_type": "code",
   "execution_count": 10,
   "metadata": {
    "collapsed": false
   },
   "outputs": [],
   "source": [
    "titulo_hitograma = \"Diferencias debidas al esfuerzo (Esfuerzo total = {})\"\n",
    "titulo_datos_esfuerzo = \"Muchos esfuerzos chicos (Unidad de esfuerzo = {})\"\n",
    "limite_x = max(bins_grande,bins_chico)\n",
    "limite_y = max(max(histograma_grande),max(histograma_chico))*100\n",
    "limite_y = ceil(limite_y)/100\n",
    "opciones_grafica = dict(title=titulo_hitograma.format(esfuerzo), x_axis_label='Gatos retirados', y_axis_label='Probabilidad', \\\n",
    "            y_range=(0,limite_y), x_range = (0,limite_x))"
   ]
  },
  {
   "cell_type": "markdown",
   "metadata": {},
   "source": [
    "Graficamos utilizando los parámetros de los histogramas y las opciones de la figura: "
   ]
  },
  {
   "cell_type": "code",
   "execution_count": 11,
   "metadata": {
    "collapsed": true
   },
   "outputs": [],
   "source": [
    "p = bp.figure(**opciones_grafica)\n",
    "p.quad(top=histograma_grande, bottom=0, left=lados_grande[:-1], right=lados_grande[1:],legend=\"Un esfuerzo grande\")\n",
    "p.quad(top=histograma_chico, bottom=0, left=lados_chico[:-1], right=lados_chico[1:],fill_color= \"#D95B43\", alpha = 0.5,\\\n",
    "       legend=titulo_datos_esfuerzo.format(unidad_esfuerzo))\n",
    "p.grid.visible = False"
   ]
  },
  {
   "cell_type": "markdown",
   "metadata": {},
   "source": [
    "Guardamos y mostramos la figura:"
   ]
  },
  {
   "cell_type": "code",
   "execution_count": 12,
   "metadata": {
    "collapsed": false
   },
   "outputs": [],
   "source": [
    "bp.output_file('../resultados/comparacion_esfuerzo.html', title=\"gatos retirados diferentes esfuerzos\")\n",
    "bp.show(p)"
   ]
  }
 ],
 "metadata": {
  "kernelspec": {
   "display_name": "Python 3",
   "language": "python",
   "name": "python3"
  },
  "language_info": {
   "codemirror_mode": {
    "name": "ipython",
    "version": 3
   },
   "file_extension": ".py",
   "mimetype": "text/x-python",
   "name": "python",
   "nbconvert_exporter": "python",
   "pygments_lexer": "ipython3",
   "version": "3.6.0"
  }
 },
 "nbformat": 4,
 "nbformat_minor": 2
}
