{
 "cells": [
  {
   "cell_type": "code",
   "execution_count": 83,
   "metadata": {
    "collapsed": true
   },
   "outputs": [],
   "source": [
    "import pandas as pd\n",
    "import numpy as np\n",
    "from datetime import timedelta\n",
    "import random\n",
    "# Para que todos obtengamos los mismos datos\n",
    "np.random.seed(1)\n",
    "random.seed(1)"
   ]
  },
  {
   "cell_type": "code",
   "execution_count": 84,
   "metadata": {
    "collapsed": true
   },
   "outputs": [],
   "source": [
    "def createDates(fechaInicio, fechaFin, repeticiones):\n",
    "    fechas = []\n",
    "    fechaActual = fechaInicio\n",
    "    while fechaActual <= fechaFin:\n",
    "        for i in range(repeticiones):\n",
    "            fechas.append(fechaActual)\n",
    "        fechaActual += timedelta(days=1)\n",
    "    return fechas"
   ]
  },
  {
   "cell_type": "code",
   "execution_count": 85,
   "metadata": {
    "collapsed": false
   },
   "outputs": [],
   "source": [
    "def createCatchEffortSynteticData(nTrampas, fechaInicio=\"2018-02-21\", fechaFin=\"2018-02-25\", tramperos = [\"DN\", \"JS\"], estadoTrampas=[\"Activa\"]):\n",
    "    # Se pasan la fecha inicial y final a formato Datetim\n",
    "    fechaInicio = pd.Timestamp(fechaInicio)\n",
    "    fechaFin = pd.Timestamp(fechaFin)\n",
    "    # Se calculan los días dentro del período para saber cuantos renglones se deben generar\n",
    "    diasPeriodo = (fechaFin - fechaInicio).days\n",
    "    renglones = diasPeriodo + 1 * nTrampas\n",
    "    # Se crean las fechas\n",
    "    #fechas = pd.to_datetime(np.linspace(fechaInicio.value, fechaFin.value, renglones))\n",
    "    datos = {}\n",
    "    datos[\"fecha de revisión\"] = createDates(fechaInicio, fechaFin, nTrampas)\n",
    "    datos[\"condición\"] = random.choices(estadoTrampas, k=len(datos[\"fecha de revisión\"]))\n",
    "    datos[\"ID del trampero\"] = random.choices(tramperos, k=len(datos[\"fecha de revisión\"]))\n",
    "    datos[\"captura\"] = np.random.binomial(1, .4, len(datos[\"fecha de revisión\"]))\n",
    "    datos[\"ID de trampa\"] = [\"TC010{:02d}{}\".format(i%nTrampas, trampero) for i, trampero in enumerate(datos[\"ID del trampero\"])]        \n",
    "    # Se crea un dataFrame que contiene los datos\n",
    "    tablaDatos = pd.DataFrame(datos)\n",
    "    # Se reacomodan las columnas\n",
    "    tablaDatos = tablaDatos.reindex(columns=[\"fecha de revisión\", \"ID del trampero\", \"ID de trampa\", \"condición\", \"captura\"])\n",
    "    return tablaDatos\n",
    "\n",
    "createCatchEffortSynteticData(10).to_excel(\"../../inst/extdata/ESFUERZO_CAPTURA_GATOS.xlsx\", index=False)"
   ]
  }
 ],
 "metadata": {
  "kernelspec": {
   "display_name": "Python 3",
   "language": "python",
   "name": "python3"
  },
  "language_info": {
   "codemirror_mode": {
    "name": "ipython",
    "version": 3
   },
   "file_extension": ".py",
   "mimetype": "text/x-python",
   "name": "python",
   "nbconvert_exporter": "python",
   "pygments_lexer": "ipython3",
   "version": "3.6.0"
  }
 },
 "nbformat": 4,
 "nbformat_minor": 2
}
