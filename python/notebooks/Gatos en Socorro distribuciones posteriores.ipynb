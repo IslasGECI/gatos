{
 "cells": [
  {
   "cell_type": "code",
   "execution_count": null,
   "metadata": {
    "collapsed": true
   },
   "outputs": [],
   "source": [
    "from pymc import Uniform, deterministic, MCMC, Binomial, Normal, SkewNormal\n",
    "from pymc import stochastic, graph, Model, DiscreteUniform, binomial_like\n",
    "import numpy as np\n",
    "import pandas as pd\n",
    "from pylab import hist, show, normpdf\n",
    "import matplotlib.pyplot as plt\n",
    "import math\n",
    "import toolboxes \n",
    "import DataAndMetadataCats as dmc\n",
    "from pymc.Matplot import plot\n",
    "from scipy import stats"
   ]
  },
  {
   "cell_type": "code",
   "execution_count": null,
   "metadata": {},
   "outputs": [],
   "source": [
    "directorio_dp = ('../../inst/extdata/erradicaciones-mamiferos/')\n",
    "recurso = 'captura_gatos.csv'\n",
    "DatosSocorro = dmc.DataAndMetadataCats(directorio_dp,recurso)"
   ]
  },
  {
   "cell_type": "code",
   "execution_count": null,
   "metadata": {},
   "outputs": [],
   "source": [
    "n_datos = len(DatosSocorro.getData())\n",
    "nombre_esfuerzo = DatosSocorro.glosario[\"esfuerzo\"]\n",
    "nombre_capturas = DatosSocorro.glosario[\"capturas\"]"
   ]
  },
  {
   "cell_type": "markdown",
   "metadata": {
    "collapsed": true
   },
   "source": [
    "Creo que aquí se tiene que hacer un cambio de unidades en el esfuerzo"
   ]
  },
  {
   "cell_type": "code",
   "execution_count": null,
   "metadata": {},
   "outputs": [],
   "source": [
    "esfuerzo = np.array(DatosSocorro.getValue(nombre_esfuerzo)/(30 * 7 * 5))  #Días hombre\n",
    "capturas = np.array(DatosSocorro.getValue(nombre_capturas))\n",
    "print(sum(capturas))"
   ]
  },
  {
   "cell_type": "markdown",
   "metadata": {},
   "source": [
    "En una segunda campaña se pudieron capturar:"
   ]
  },
  {
   "cell_type": "code",
   "execution_count": null,
   "metadata": {},
   "outputs": [],
   "source": [
    "esfuerzo2 = np.array(DatosSocorro.getValue(nombre_esfuerzo)/(30 * 7 * 5))  #Días hombre\n",
    "capturas2 = np.array(DatosSocorro.getValue(nombre_capturas))"
   ]
  },
  {
   "cell_type": "markdown",
   "metadata": {},
   "source": [
    "## El modelo"
   ]
  },
  {
   "cell_type": "markdown",
   "metadata": {},
   "source": [
    "El parámetro $\\tau$ se define como: $$\\tau = \\frac{1}{\\sigma^2}.$$"
   ]
  },
  {
   "cell_type": "markdown",
   "metadata": {},
   "source": [
    "## Muestreos Monte-Carlo"
   ]
  },
  {
   "cell_type": "code",
   "execution_count": null,
   "metadata": {},
   "outputs": [],
   "source": [
    "Modelo_gatitos = Model(dmc.metodo_Ramsey(esfuerzo, capturas))\n",
    "for iIteraciones in range(0,100):\n",
    "    Modelo_gatitos = MCMC(dmc.metodo_Ramsey(esfuerzo, capturas))\n",
    "    Modelo_gatitos.sample(iter = 6000000, burn = 3000000)\n",
    "    a = pd.Series(Modelo_gatitos.trace('a_captura')[:])\n",
    "    b = pd.Series(Modelo_gatitos.trace('b_captura')[:])\n",
    "    No = pd.Series(Modelo_gatitos.trace('N_o')[:])\n",
    "    pd.DataFrame({\"a\":a,\"b\":b,\"No\":No}).to_csv(f'../../resultados/muestras_normal_datos_completos_{iIteraciones}.csv')"
   ]
  },
  {
   "cell_type": "markdown",
   "metadata": {},
   "source": [
    "## Histogramas de las distribuciones posteriores"
   ]
  },
  {
   "cell_type": "markdown",
   "metadata": {},
   "source": [
    "### Salvado de los resultados"
   ]
  },
  {
   "cell_type": "code",
   "execution_count": null,
   "metadata": {},
   "outputs": [],
   "source": [
    "plt.plot(No)"
   ]
  },
  {
   "cell_type": "markdown",
   "metadata": {},
   "source": [
    "La cantidad de gatos que quedan son:"
   ]
  },
  {
   "cell_type": "code",
   "execution_count": null,
   "metadata": {},
   "outputs": [],
   "source": [
    "remanentes = np.percentile(Modelo_gatitos.trace('N_o')[:],[0.5,95.5]) - sum(capturas)\n",
    "print(remanentes)"
   ]
  },
  {
   "cell_type": "code",
   "execution_count": null,
   "metadata": {},
   "outputs": [],
   "source": [
    "histograma_No = hist(No, bins=1000)\n",
    "show()"
   ]
  },
  {
   "cell_type": "markdown",
   "metadata": {
    "collapsed": true
   },
   "source": [
    "## Las distribuciones posteriores de $\\alpha$ y $\\beta$"
   ]
  },
  {
   "cell_type": "markdown",
   "metadata": {
    "collapsed": true
   },
   "source": [
    "### ¿Cuáles son los valores de los parámetros de las distribuciones posteriores?¶"
   ]
  },
  {
   "cell_type": "markdown",
   "metadata": {
    "collapsed": true
   },
   "source": [
    "Para $\\alpha$, la media y la desviación estándar son:"
   ]
  },
  {
   "cell_type": "code",
   "execution_count": null,
   "metadata": {},
   "outputs": [],
   "source": [
    "alpha_media = np.mean(a)\n",
    "alpha_desviacion = np.std(a)\n",
    "print(alpha_media,alpha_desviacion)"
   ]
  },
  {
   "cell_type": "markdown",
   "metadata": {
    "collapsed": true
   },
   "source": [
    "Para $\\beta$, la media y la desviación estándar son:"
   ]
  },
  {
   "cell_type": "code",
   "execution_count": null,
   "metadata": {},
   "outputs": [],
   "source": [
    "beta_media = np.mean(b)\n",
    "beta_desviacion = np.std(b)\n",
    "print(beta_media, beta_desviacion)"
   ]
  },
  {
   "cell_type": "markdown",
   "metadata": {
    "collapsed": true
   },
   "source": [
    "### Graficado de las distribuciones posteriores de $\\alpha$ y $\\beta$"
   ]
  },
  {
   "cell_type": "code",
   "execution_count": null,
   "metadata": {},
   "outputs": [],
   "source": [
    "n, bins, patches = hist(a, bins=1000, normed = 1)\n",
    "y = normpdf( bins, alpha_media,alpha_desviacion)\n",
    "l = plt.plot(bins, y, 'r--', linewidth=1)\n",
    "show()"
   ]
  },
  {
   "cell_type": "code",
   "execution_count": null,
   "metadata": {},
   "outputs": [],
   "source": [
    "n, bins, patches = hist(b, bins=1000, normed = 1)\n",
    "y = normpdf( bins, beta_media,beta_desviacion)\n",
    "l = plt.plot(bins, y, 'r--', linewidth=1)\n",
    "show()"
   ]
  },
  {
   "cell_type": "markdown",
   "metadata": {
    "collapsed": true
   },
   "source": [
    "### Normalidad de los datos $\\alpha$ y $\\beta$"
   ]
  },
  {
   "cell_type": "code",
   "execution_count": null,
   "metadata": {},
   "outputs": [],
   "source": [
    "n_ciclos = 100\n",
    "p_valor = []\n",
    "for iCiclo in range(n_ciclos):\n",
    "    x = pd.Series(a).sample(n=5000)\n",
    "    p_valor.append(stats.shapiro(x)[1])\n",
    "sum(np.array(p_valor) > 0.05) * 100 / n_ciclos"
   ]
  },
  {
   "cell_type": "code",
   "execution_count": null,
   "metadata": {
    "collapsed": true
   },
   "outputs": [],
   "source": []
  }
 ],
 "metadata": {
  "kernelspec": {
   "display_name": "Python 3",
   "language": "python",
   "name": "python3"
  },
  "language_info": {
   "codemirror_mode": {
    "name": "ipython",
    "version": 3
   },
   "file_extension": ".py",
   "mimetype": "text/x-python",
   "name": "python",
   "nbconvert_exporter": "python",
   "pygments_lexer": "ipython3",
   "version": "3.6.3"
  }
 },
 "nbformat": 4,
 "nbformat_minor": 2
}
