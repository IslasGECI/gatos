{
 "cells": [
  {
   "cell_type": "markdown",
   "metadata": {},
   "source": [
    "<table style=\"float:left; border:none\">\n",
    "   <tr style=\"border:none; background-color: #ffffff\">\n",
    "       <td style=\"border:none\">\n",
    "           <a href=\"http://www.islas.org.mx//\">     \n",
    "           <img \n",
    "               src=\"assets/geci_20_anos.png\" \n",
    "               style=\"width:200px\"\n",
    "           >\n",
    "           </a>    \n",
    "       </td>\n",
    "       <td style=\"border:none\">\n",
    "           <h1>Erradicación de gatos en Socorro</h1>\n",
    "       </td>\n",
    "   </tr>\n",
    "</table>\n",
    "\n",
    "<div style=\"float:right;\"><h2> Las cuatro gráficas</h2></div>"
   ]
  },
  {
   "cell_type": "code",
   "execution_count": 1,
   "metadata": {},
   "outputs": [
    {
     "ename": "ModuleNotFoundError",
     "evalue": "No module named 'gatos'",
     "output_type": "error",
     "traceback": [
      "\u001b[0;31m---------------------------------------------------------------------------\u001b[0m",
      "\u001b[0;31mModuleNotFoundError\u001b[0m                       Traceback (most recent call last)",
      "\u001b[0;32m<ipython-input-1-140ad8141ba6>\u001b[0m in \u001b[0;36m<module>\u001b[0;34m\u001b[0m\n\u001b[1;32m      1\u001b[0m \u001b[0;32mimport\u001b[0m \u001b[0mpandas\u001b[0m \u001b[0;32mas\u001b[0m \u001b[0mpd\u001b[0m\u001b[0;34m\u001b[0m\u001b[0;34m\u001b[0m\u001b[0m\n\u001b[1;32m      2\u001b[0m \u001b[0;32mimport\u001b[0m \u001b[0mnumpy\u001b[0m \u001b[0;32mas\u001b[0m \u001b[0mnp\u001b[0m\u001b[0;34m\u001b[0m\u001b[0;34m\u001b[0m\u001b[0m\n\u001b[0;32m----> 3\u001b[0;31m \u001b[0;32mimport\u001b[0m \u001b[0mgatos\u001b[0m \u001b[0;32mas\u001b[0m \u001b[0mdmc\u001b[0m\u001b[0;34m\u001b[0m\u001b[0;34m\u001b[0m\u001b[0m\n\u001b[0m\u001b[1;32m      4\u001b[0m \u001b[0;32mimport\u001b[0m \u001b[0mmatplotlib\u001b[0m\u001b[0;34m.\u001b[0m\u001b[0mpyplot\u001b[0m \u001b[0;32mas\u001b[0m \u001b[0mplt\u001b[0m\u001b[0;34m\u001b[0m\u001b[0;34m\u001b[0m\u001b[0m\n\u001b[1;32m      5\u001b[0m \u001b[0;32mimport\u001b[0m \u001b[0mbokeh\u001b[0m\u001b[0;34m.\u001b[0m\u001b[0mplotting\u001b[0m \u001b[0;32mas\u001b[0m \u001b[0mbp\u001b[0m\u001b[0;34m\u001b[0m\u001b[0;34m\u001b[0m\u001b[0m\n",
      "\u001b[0;31mModuleNotFoundError\u001b[0m: No module named 'gatos'"
     ]
    }
   ],
   "source": [
    "import pandas as pd\n",
    "import numpy as np\n",
    "import gatos as dmc\n",
    "import matplotlib.pyplot as plt\n",
    "import bokeh.plotting as bp\n",
    "import bokeh.models as bm\n",
    "import bokeh.io as bi\n",
    "from bokeh.layouts import row\n",
    "from math import ceil"
   ]
  },
  {
   "cell_type": "markdown",
   "metadata": {},
   "source": [
    "## Objetivo\n",
    "Generar cuatro gráficas:\n",
    "1. Serie de tiempo capturas por esfuerzo\n",
    "1. Serie de tiempo capturas acumuladas\n",
    "1. Capturas acumuladas en función del esfuerzo acumulado\n",
    "1. Capturas por esfuerzo en función del esfuerzo aculumado"
   ]
  },
  {
   "cell_type": "markdown",
   "metadata": {},
   "source": [
    "## Lectura de datos"
   ]
  },
  {
   "cell_type": "markdown",
   "metadata": {},
   "source": [
    "### Dirección de las carpetas"
   ]
  },
  {
   "cell_type": "code",
   "execution_count": null,
   "metadata": {},
   "outputs": [],
   "source": [
    "carpeta_DP = \"../inst/extdata/erradicaciones-mamiferos/\"\n",
    "carpeta_resultados = \"../resultados/\""
   ]
  },
  {
   "cell_type": "markdown",
   "metadata": {},
   "source": [
    "### Nombre del recurso"
   ]
  },
  {
   "cell_type": "code",
   "execution_count": null,
   "metadata": {},
   "outputs": [],
   "source": [
    "nombres = 'captura_gatos.csv'"
   ]
  },
  {
   "cell_type": "markdown",
   "metadata": {},
   "source": [
    "### Lectura de datos y metadatos"
   ]
  },
  {
   "cell_type": "code",
   "execution_count": null,
   "metadata": {},
   "outputs": [],
   "source": [
    "GatosConMetadatos = dmc.DataAndMetadataCats(carpeta_DP, nombres)"
   ]
  },
  {
   "cell_type": "code",
   "execution_count": null,
   "metadata": {},
   "outputs": [],
   "source": [
    "tiempo = GatosConMetadatos.glosario['tiempo']\n",
    "esfuerzo = GatosConMetadatos.glosario['esfuerzo']\n",
    "capturas = GatosConMetadatos.glosario['capturas']"
   ]
  },
  {
   "cell_type": "markdown",
   "metadata": {},
   "source": [
    "## Limpia de los datos"
   ]
  },
  {
   "cell_type": "markdown",
   "metadata": {},
   "source": [
    "### Caso particular"
   ]
  },
  {
   "cell_type": "code",
   "execution_count": null,
   "metadata": {},
   "outputs": [],
   "source": [
    "datos_gatos = GatosConMetadatos.getData()\n",
    "sum(datos_gatos.esfuerzo)"
   ]
  },
  {
   "cell_type": "markdown",
   "metadata": {},
   "source": [
    "## Graficado\n",
    "### Serie de tiempo captura por esfuerzo"
   ]
  },
  {
   "cell_type": "code",
   "execution_count": null,
   "metadata": {},
   "outputs": [],
   "source": [
    "captura_por_esfuerzo = datos_gatos[capturas].values / datos_gatos[esfuerzo].values"
   ]
  },
  {
   "cell_type": "code",
   "execution_count": null,
   "metadata": {},
   "outputs": [],
   "source": [
    "plt.figure(figsize = (8, 4))\n",
    "plt.plot(datos_gatos.tiempo_listo, captura_por_esfuerzo, \"o\")\n",
    "plt.ylabel(\"Catch per effort unit (cats/trap$\\cdot$night)\")\n",
    "plt.xlabel(\" \")\n",
    "eje = plt.gca()\n",
    "eje.spines[\"top\"].set_visible(False)\n",
    "eje.spines[\"right\"].set_visible(False)\n",
    "plt.ylim([0.0, 0.1])\n",
    "plt.savefig(\"../resultados/catch-per-unit-effort_time-serie.png\")"
   ]
  },
  {
   "cell_type": "markdown",
   "metadata": {
    "collapsed": true
   },
   "source": [
    "### Serie de tiempo captura acumudalas"
   ]
  },
  {
   "cell_type": "code",
   "execution_count": null,
   "metadata": {},
   "outputs": [],
   "source": [
    "captura_acumuladas = datos_gatos.capturas.cumsum()"
   ]
  },
  {
   "cell_type": "code",
   "execution_count": null,
   "metadata": {},
   "outputs": [],
   "source": [
    "plt.figure(figsize = (8, 4))\n",
    "plt.plot(datos_gatos.tiempo_listo, captura_acumuladas, \"o\")\n",
    "plt.ylabel(\"Accumulated catch (cats)\")\n",
    "plt.xlabel(\" \")\n",
    "plt.yticks(np.arange(50, 651, step=100))\n",
    "eje = plt.gca()\n",
    "eje.spines[\"top\"].set_visible(False)\n",
    "eje.spines[\"right\"].set_visible(False)\n",
    "plt.ylim([0.0, 650])\n",
    "plt.savefig(\"../resultados/accumulated-catch_time-serie.png\")"
   ]
  },
  {
   "cell_type": "markdown",
   "metadata": {},
   "source": [
    "### Captura acumudalas en función del esfuerzo acumulado"
   ]
  },
  {
   "cell_type": "code",
   "execution_count": null,
   "metadata": {},
   "outputs": [],
   "source": [
    "esfuerzo_acumuladas = datos_gatos.esfuerzo.cumsum()"
   ]
  },
  {
   "cell_type": "code",
   "execution_count": null,
   "metadata": {},
   "outputs": [],
   "source": [
    "plt.figure(figsize = (8, 4))\n",
    "plt.plot(esfuerzo_acumuladas, captura_acumuladas, \"o\")\n",
    "plt.ylabel(\"Accumulated catch (cats)\")\n",
    "plt.xlabel(\"Accumulated effort (trap-night)\")\n",
    "plt.yticks(np.arange(50, 651, step=100))\n",
    "eje = plt.gca()\n",
    "eje.spines[\"top\"].set_visible(False)\n",
    "eje.spines[\"right\"].set_visible(False)\n",
    "plt.ylim([0.0, 651])\n",
    "plt.savefig(\"../resultados/accumulated-catch_accumulated-effort.png\")"
   ]
  },
  {
   "cell_type": "code",
   "execution_count": null,
   "metadata": {},
   "outputs": [],
   "source": [
    "bi.curdoc().clear()\n",
    "bp.reset_output()"
   ]
  },
  {
   "cell_type": "code",
   "execution_count": null,
   "metadata": {},
   "outputs": [],
   "source": [
    "fuente = bp.ColumnDataSource({'x': esfuerzo_acumuladas, 'ca': pd.Series(captura_acumuladas), 'e': pd.Series(captura_por_esfuerzo)})\n",
    "encima_p1 = bm.HoverTool(tooltips=[\n",
    "    (\"Esfuerzo acumulado\", \"@x\"),\n",
    "    (\"Capturas acumuladas\", \"@ca\")],\n",
    "    mode='mouse')\n",
    "encima_p2 = bm.HoverTool(tooltips=[\n",
    "    (\"Esfuerzo acumulado\", \"@x\"),\n",
    "    (\"Capturas por esfuerzo\", \"@e\")],\n",
    "    mode='mouse')\n",
    "herramientas = \"box_select,lasso_select,pan,box_zoom,wheel_zoom,reset,save\""
   ]
  },
  {
   "cell_type": "code",
   "execution_count": null,
   "metadata": {},
   "outputs": [],
   "source": [
    "titulo_figura = \"Capturas acumuladas vs esfuerzo acumulado\"\n",
    "limite_y = ceil(max(captura_acumuladas)/100) * 100\n",
    "opciones_grafica = dict(title=titulo_figura, x_axis_label='Esfuerzo acumulado (trampas * noche)', \\\n",
    "                        y_axis_label='Capturas acumuladas (individuos)', y_range=(0,limite_y),\\\n",
    "                        tools=[encima_p1, herramientas])"
   ]
  },
  {
   "cell_type": "code",
   "execution_count": null,
   "metadata": {},
   "outputs": [],
   "source": [
    "p1 = bp.figure(**opciones_grafica)\n",
    "p1.title.text_font = \"verdana\"\n",
    "p1.yaxis.axis_label_text_font = \"verdana\"\n",
    "p1.yaxis.axis_label_text_font_style = \"normal\"\n",
    "p1.xaxis.axis_label_text_font = \"verdana\"\n",
    "p1.xaxis.axis_label_text_font_style = \"normal\"\n",
    "p1.circle('x', 'ca', size=10, source=fuente)\n",
    "p1.grid.visible = False"
   ]
  },
  {
   "cell_type": "markdown",
   "metadata": {},
   "source": [
    "### Captura por esfuerzo en función del esfuerzo acumulado"
   ]
  },
  {
   "cell_type": "code",
   "execution_count": null,
   "metadata": {},
   "outputs": [],
   "source": [
    "plt.figure(figsize = (8, 4))\n",
    "plt.plot(esfuerzo_acumuladas, captura_por_esfuerzo, \"o\")\n",
    "plt.ylabel(\"Catch per effort unit (cats/trap$\\cdot$night)\")\n",
    "plt.xlabel(\"Accumulated effort (trap$\\cdot$night)\")\n",
    "eje = plt.gca()\n",
    "eje.spines[\"top\"].set_visible(False)\n",
    "eje.spines[\"right\"].set_visible(False)\n",
    "plt.ylim([0.0, 0.1])\n",
    "plt.savefig(\"../resultados/catch-per-unit-effort_accumulated-effort.png\")"
   ]
  },
  {
   "cell_type": "code",
   "execution_count": null,
   "metadata": {},
   "outputs": [],
   "source": [
    "titulo_figura = \"Capturas por esfuerzo vs esfuerzo acumulado\"\n",
    "limite_y = 0.1\n",
    "opciones_grafica = dict(title=titulo_figura, x_axis_label='Esfuerzo acumulado (trampas * noche)', \\\n",
    "                        y_axis_label='Capturas por esfuerzo (individuos/(trampas * noche))', y_range=(0,limite_y),\\\n",
    "                        tools=[encima_p2, herramientas])"
   ]
  },
  {
   "cell_type": "code",
   "execution_count": null,
   "metadata": {},
   "outputs": [],
   "source": [
    "p2 = bp.figure(**opciones_grafica)\n",
    "p2.title.text_font = \"verdana\"\n",
    "p2.yaxis.axis_label_text_font = \"verdana\"\n",
    "p2.yaxis.axis_label_text_font_style = \"normal\"\n",
    "p2.xaxis.axis_label_text_font = \"verdana\"\n",
    "p2.xaxis.axis_label_text_font_style = \"normal\"\n",
    "p2.circle('x', 'e', size=10, source=fuente)\n",
    "p2.grid.visible = False"
   ]
  },
  {
   "cell_type": "code",
   "execution_count": null,
   "metadata": {},
   "outputs": [],
   "source": [
    "p = bp.gridplot([[p1, p2]])\n",
    "bp.output_file('../resultados/catch-effort.html')\n",
    "bp.show(p)"
   ]
  },
  {
   "cell_type": "code",
   "execution_count": null,
   "metadata": {},
   "outputs": [],
   "source": [
    "ceil(max(captura_acumuladas)/100) * 100"
   ]
  }
 ],
 "metadata": {
  "kernelspec": {
   "display_name": "Python 3",
   "language": "python",
   "name": "python3"
  },
  "language_info": {
   "codemirror_mode": {
    "name": "ipython",
    "version": 3
   },
   "file_extension": ".py",
   "mimetype": "text/x-python",
   "name": "python",
   "nbconvert_exporter": "python",
   "pygments_lexer": "ipython3",
   "version": "3.7.3"
  }
 },
 "nbformat": 4,
 "nbformat_minor": 2
}
