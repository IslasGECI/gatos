{
 "cells": [
  {
   "cell_type": "code",
   "execution_count": null,
   "metadata": {},
   "outputs": [],
   "source": [
    "% matplotlib notebook\n",
    "import bokeh.plotting as bp\n",
    "import bokeh.models as bm\n",
    "import pandas as pd\n",
    "import numpy as np\n",
    "import matplotlib.pyplot as plt\n",
    "import gatos as dmc"
   ]
  },
  {
   "cell_type": "code",
   "execution_count": null,
   "metadata": {},
   "outputs": [],
   "source": [
    "directorio_resultados = '../tmp/'\n",
    "archivo = 'distribucion_posterior_repeticion_2_iteraciones_1000000.csv'\n",
    "datos = pd.read_csv(directorio_resultados + archivo)"
   ]
  },
  {
   "cell_type": "markdown",
   "metadata": {},
   "source": [
    "## CDF éxito de erradicación  "
   ]
  },
  {
   "cell_type": "code",
   "execution_count": null,
   "metadata": {},
   "outputs": [],
   "source": [
    "probabilidad = []\n",
    "remanentes_capturados = []\n",
    "muestra = 100_000\n",
    "for iEsfuerzo in range(1,1001):\n",
    "    No = datos.No.sample(n=muestra, replace=True).values.astype(np.int32) - 606\n",
    "    beta = datos.b.sample(n=muestra, replace=True).values\n",
    "    alpha = datos.a.sample(n=muestra, replace=True).values\n",
    "    esfuerzo = iEsfuerzo * 0.1\n",
    "    exp = np.exp(alpha + beta * esfuerzo)\n",
    "    p = exp/(1+exp)\n",
    "    probabilidad.append(1-sum(np.random.binomial(No,p) < No)/muestra) \n",
    "    remanentes_capturados.append(np.mean(np.random.binomial(No,p)))"
   ]
  },
  {
   "cell_type": "code",
   "execution_count": null,
   "metadata": {},
   "outputs": [],
   "source": [
    "esfuerzo_trampas = np.array(range(1,1001,1))*0.1 * (5 * 30 * 7)\n",
    "fuente = bp.ColumnDataSource(\n",
    "    data=dict(\n",
    "        esfuerzo_trampas=esfuerzo_trampas,\n",
    "        remanentes_capturados=remanentes_capturados\n",
    "    )\n",
    ")\n",
    "encima = bm.HoverTool(\n",
    "    tooltips=[\n",
    "        (\"Capturas\", \"@remanentes_capturados\"),\n",
    "        (\"Esfuerzo\", \"@esfuerzo_trampas\")], \n",
    "    mode='vline'\n",
    ")\n",
    "herramientas = \"pan,box_zoom,wheel_zoom,reset,save\"\n",
    "fig = bp.figure(title=\"Capturas promedio de individuos remanentes en función del esfuerzo\",\n",
    "                x_axis_label=\"Esfuerzo (noches*trampas)\", y_axis_label='Capturas (individuos)',\n",
    "                x_range=(0,50000), tools=[encima, herramientas])\n",
    "fig.line(x='esfuerzo_trampas', y='remanentes_capturados', source=fuente)\n",
    "#bp.show(fig)"
   ]
  },
  {
   "cell_type": "code",
   "execution_count": null,
   "metadata": {},
   "outputs": [],
   "source": [
    "paso = 20\n",
    "remanentes_derivar = np.convolve(remanentes_capturados, np.ones((paso,))/paso, mode='valid')\n",
    "esfuerzo_graficar = np.convolve(esfuerzo_trampas, np.ones((paso,))/paso, mode='valid')"
   ]
  },
  {
   "cell_type": "code",
   "execution_count": null,
   "metadata": {},
   "outputs": [],
   "source": [
    "df = np.diff(remanentes_derivar)\n",
    "dx = esfuerzo_graficar[paso] - esfuerzo_graficar[0]\n",
    "Df = df/dx"
   ]
  },
  {
   "cell_type": "code",
   "execution_count": null,
   "metadata": {},
   "outputs": [],
   "source": [
    "fuente = bp.ColumnDataSource(\n",
    "    data=dict(\n",
    "        derivada=Df,\n",
    "        esfuerzo_graficar=(esfuerzo_graficar[1:]+esfuerzo_graficar[:-1])/2\n",
    "    )\n",
    ")\n",
    "encima = bm.HoverTool(\n",
    "    tooltips=[\n",
    "        (\"Capturas\", \"@derivada\"),\n",
    "        (\"Esfuerzo\", \"@esfuerzo_graficar\")], \n",
    "    mode='vline'\n",
    ")\n",
    "fig_derivada = bp.figure(title=\"Derivada capturas promedio de individuos remanentes en función del esfuerzo\",\n",
    "                x_axis_label=\"Esfuerzo (noches*trampas)\", y_axis_label='Capturas (individuos)',\n",
    "                x_range=(0,50000), tools=[encima, herramientas])\n",
    "\n",
    "fig_derivada.line(x='esfuerzo_graficar',y='derivada', source=fuente)"
   ]
  },
  {
   "cell_type": "code",
   "execution_count": null,
   "metadata": {},
   "outputs": [],
   "source": [
    "p = bp.gridplot([[fig_derivada, fig]])\n",
    "bp.show(p)"
   ]
  },
  {
   "cell_type": "code",
   "execution_count": null,
   "metadata": {},
   "outputs": [],
   "source": [
    "p1 = bp.figure(title=\"cdf de éxito de erradicación\", x_axis_label=\"Esfuerzo (noches*trampas)\", y_axis_label='Probabilidad',\\\n",
    "            y_range=(0, 1),x_range=(0, 100000))\n",
    "p1.grid.visible = False\n",
    "p1.line(esfuerzo_trampas,probabilidad)\n",
    "p1.line(esfuerzo_trampas,marca_95, line_color=\"#D95B43\")\n",
    "bp.output_file('../resultados/cdf_exito_erradicacion.html', title=\"cdf éxito erradicacion\")\n",
    "bp.show(p1)"
   ]
  },
  {
   "cell_type": "markdown",
   "metadata": {},
   "source": [
    "## PDF éxito de erradicación \n",
    "Calculamos la función de distribución de probabilidad derivando de la {\\it CDF}.  "
   ]
  },
  {
   "cell_type": "code",
   "execution_count": null,
   "metadata": {},
   "outputs": [],
   "source": [
    "dt = 20\n",
    "derivada = np.array(probabilidad[0:-1:dt])\n",
    "derivada[1:] -= derivada[:-1].copy()\n",
    "esfuerzo_trampas_menor_paso = esfuerzo_trampas[0:-1:dt]  # Cambio de paso"
   ]
  },
  {
   "cell_type": "code",
   "execution_count": null,
   "metadata": {},
   "outputs": [],
   "source": [
    "plt.bar(esfuerzo_trampas_menor_paso,derivada,width=2000)"
   ]
  },
  {
   "cell_type": "code",
   "execution_count": null,
   "metadata": {},
   "outputs": [],
   "source": [
    "p2 = bp.figure(title=\"pdf de éxito de erradicación\", x_axis_label='Esfuerzo (trampas * noche)', y_axis_label='Probabilidad', \\\n",
    "            y_range=(0,0.12))\n",
    "p2.quad(top=derivada, bottom=0, left=esfuerzo_trampas_menor_paso, right=esfuerzo_trampas_menor_paso+2000)\n",
    "p2.grid.visible = False"
   ]
  },
  {
   "cell_type": "code",
   "execution_count": null,
   "metadata": {},
   "outputs": [],
   "source": [
    "bp.output_file('../resultados/pdf_exito_erradicacion.html', title=\"pdf éxito de erradicación\")\n",
    "bp.show(p2)"
   ]
  },
  {
   "cell_type": "code",
   "execution_count": null,
   "metadata": {},
   "outputs": [],
   "source": [
    "id_min = len(np.array(probabilidad)) - sum(np.array(probabilidad)>0.025)\n",
    "id_max = len(np.array(probabilidad)) - sum(np.array(probabilidad)>0.975)\n",
    "((esfuerzo_trampas[id_min]+ esfuerzo_trampas[id_min+1])/2,(esfuerzo_trampas[id_max]+esfuerzo_trampas[id_max+1])/2)"
   ]
  }
 ],
 "metadata": {
  "kernelspec": {
   "display_name": "Python 3",
   "language": "python",
   "name": "python3"
  },
  "language_info": {
   "codemirror_mode": {
    "name": "ipython",
    "version": 3
   },
   "file_extension": ".py",
   "mimetype": "text/x-python",
   "name": "python",
   "nbconvert_exporter": "python",
   "pygments_lexer": "ipython3",
   "version": "3.6.5"
  }
 },
 "nbformat": 4,
 "nbformat_minor": 2
}
